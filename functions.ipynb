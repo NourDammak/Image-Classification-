{
 "cells": [
  {
   "cell_type": "code",
   "execution_count": 1,
   "metadata": {},
   "outputs": [],
   "source": [
    "# displaying color composition of Sentinel-2 image\n",
    "import numpy as np\n",
    "from skimage import exposure\n",
    "\n",
    "# funkcja\n",
    "def composition(kanal1,kanal2,kanal3):\n",
    "    im_comp=np.dstack([kanal1/kanal1.max(), kanal2/kanal2.max(), kanal3/kanal3.max()])\n",
    "    for i in range(3):\n",
    "        v_min, v_max = np.percentile(im_comp[:,:,i],(1,98))\n",
    "        im_comp[:,:,i] = exposure.rescale_intensity(im_comp[:,:,i],in_range=(v_min,v_max))\n",
    "    return im_comp"
   ]
  },
  {
   "cell_type": "code",
   "execution_count": null,
   "metadata": {},
   "outputs": [],
   "source": [
    "# visualisation of test/validation points\n",
    "def visualize_points(im_comp,p_val):\n",
    "    # making color composition gray\n",
    "    im_comp_p=np.zeros(im_comp.shape)\n",
    "    im_comp_p[:,:,0]=rgb2gray(im_comp)\n",
    "    im_comp_p[:,:,1]=rgb2gray(im_comp)\n",
    "    im_comp_p[:,:,2]=rgb2gray(im_comp)\n",
    "\n",
    "    # marking test/validation points with red crosses \n",
    "    im_comp_p[p_val[:,0],p_val[:,1],0] =1\n",
    "    im_comp_p[p_val[:,0],p_val[:,1],1] =0\n",
    "    im_comp_p[p_val[:,0],p_val[:,1],2] =0\n",
    "    im_comp_p[p_val[:,0]+1,p_val[:,1],0] =1\n",
    "    im_comp_p[p_val[:,0]+1,p_val[:,1],1] =0\n",
    "    im_comp_p[p_val[:,0]+1,p_val[:,1],2] =0\n",
    "    im_comp_p[p_val[:,0]-1,p_val[:,1],0] =1\n",
    "    im_comp_p[p_val[:,0]-1,p_val[:,1],1] =0\n",
    "    im_comp_p[p_val[:,0]-1,p_val[:,1],2] =0\n",
    "    im_comp_p[p_val[:,0],p_val[:,1]+1,0] =1\n",
    "    im_comp_p[p_val[:,0],p_val[:,1]+1,1] =0\n",
    "    im_comp_p[p_val[:,0],p_val[:,1]+1,2] =0\n",
    "    im_comp_p[p_val[:,0],p_val[:,1]-1,0] =1\n",
    "    im_comp_p[p_val[:,0],p_val[:,1]-1,1] =0\n",
    "    im_comp_p[p_val[:,0],p_val[:,1]-1,2] =0\n",
    "    return im_comp_p"
   ]
  },
  {
   "cell_type": "code",
   "execution_count": 7,
   "metadata": {},
   "outputs": [],
   "source": [
    "# legend\n",
    "def legend():\n",
    "    fig = plt.figure(figsize=(20,1))\n",
    "    ax = fig.add_subplot(111)\n",
    "    plt.imshow(np.hstack((np.zeros((10,100)), np.ones((10,100)), 2*np.ones((10,100)), 3*np.ones((10,100)))))\n",
    "    ax.text(40,6,'Water',fontsize=15, color='white')\n",
    "    ax.text(140,6,'Built-up',fontsize=15, color='white')\n",
    "    ax.text(230,6,'Low vegetation',fontsize=15, color='white')\n",
    "    ax.text(330,6,'Trees',fontsize=15, color='black')"
   ]
  },
  {
   "cell_type": "code",
   "execution_count": null,
   "metadata": {},
   "outputs": [],
   "source": []
  }
 ],
 "metadata": {
  "kernelspec": {
   "display_name": "Python 3",
   "language": "python",
   "name": "python3"
  },
  "language_info": {
   "codemirror_mode": {
    "name": "ipython",
    "version": 3
   },
   "file_extension": ".py",
   "mimetype": "text/x-python",
   "name": "python",
   "nbconvert_exporter": "python",
   "pygments_lexer": "ipython3",
   "version": "3.7.10"
  }
 },
 "nbformat": 4,
 "nbformat_minor": 4
}
